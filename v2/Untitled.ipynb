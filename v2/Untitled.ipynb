{
 "cells": [
  {
   "cell_type": "code",
   "execution_count": 108,
   "metadata": {},
   "outputs": [],
   "source": [
    "from keras.models import Sequential\n",
    "from keras.layers import Dense, Activation\n",
    "from keras.optimizers import SGD, Adagrad\n",
    "from utility.utils import read_data, generate_datasets\n",
    "from sklearn.preprocessing import normalize\n",
    "import pandas as pd\n",
    "\n",
    "\"\"\"\n",
    "This version 2 will attempt to use keras to create a multi-layer neural network\n",
    "to predict the next price of a particular cryptocurrency given the current\n",
    "price, volume, high price, low price of a given timestep\n",
    "\"\"\"\n",
    "\n",
    "\n",
    "data = read_data('crypto-test-data-82hrs.csv')\n",
    "data = data[data['ticker'] == 'ETHBTC']\n",
    "data['timestamp'] = pd.to_datetime(data.timestamp)\n",
    "data = data[['high', 'low', 'price', 'volume', 'timestamp']].sort_values(by='timestamp')\n",
    "data = data.set_index('timestamp')\n"
   ]
  },
  {
   "cell_type": "code",
   "execution_count": null,
   "metadata": {},
   "outputs": [],
   "source": []
  },
  {
   "cell_type": "code",
   "execution_count": 2,
   "metadata": {},
   "outputs": [],
   "source": [
    "X_train, X_test, Y_train, Y_test = generate_datasets(data)"
   ]
  },
  {
   "cell_type": "code",
   "execution_count": 3,
   "metadata": {},
   "outputs": [
    {
     "name": "stdout",
     "output_type": "stream",
     "text": [
      "X_train shape: (19864, 4)\n",
      "X_test shape: (9784, 4)\n",
      "Y_train shape: (19864, 1)\n",
      "[[5.87521225e-03 5.87288841e-03 5.87358036e-03 8.33919805e-05]\n",
      " [5.67864656e-03 5.68291300e-03 5.68070172e-03 6.15133183e-03]\n",
      " [5.91014410e-03 5.90832385e-03 5.90919442e-03 1.17209053e-03]\n",
      " [5.72475365e-03 5.72241723e-03 5.72638545e-03 7.62170212e-04]\n",
      " [5.68863766e-03 5.69179036e-03 5.69121565e-03 3.13369735e-03]]\n",
      "[[0.0058715 ]\n",
      " [0.00568449]\n",
      " [0.00590806]\n",
      " [0.00572393]\n",
      " [0.00569041]]\n",
      "------------------\n",
      "[[0.00568782 0.00568595 0.00568951 0.00041191]\n",
      " [0.00583421 0.0058342  0.00583537 0.0020468 ]\n",
      " [0.00587691 0.0058757  0.00587314 0.00140268]\n",
      " [0.00590467 0.00590241 0.00590401 0.00104339]\n",
      " [0.00567939 0.00568069 0.00568189 0.00230835]]\n",
      "[[0.00568708]\n",
      " [0.00583406]\n",
      " [0.00587646]\n",
      " [0.00590525]\n",
      " [0.00567931]]\n"
     ]
    }
   ],
   "source": [
    "print('X_train shape: ' + str(X_train.shape))\n",
    "print('X_test shape: ' + str(X_test.shape))\n",
    "print('Y_train shape: ' + str(Y_train.shape))\n",
    "print(X_train[0:5])\n",
    "print(Y_train[0:5])\n",
    "print('------------------')\n",
    "print(X_test[0:5])\n",
    "print(Y_test[0:5])"
   ]
  },
  {
   "cell_type": "code",
   "execution_count": 129,
   "metadata": {},
   "outputs": [
    {
     "name": "stdout",
     "output_type": "stream",
     "text": [
      "Epoch 1/10\n",
      "19864/19864 [==============================] - 4s 199us/step - loss: 2.8561e-05\n",
      "Epoch 2/10\n",
      "19864/19864 [==============================] - 3s 127us/step - loss: 8.3552e-07\n",
      "Epoch 3/10\n",
      "19864/19864 [==============================] - 3s 127us/step - loss: 7.9409e-07\n",
      "Epoch 4/10\n",
      "19864/19864 [==============================] - 2s 126us/step - loss: 7.7041e-07\n",
      "Epoch 5/10\n",
      "19864/19864 [==============================] - 3s 127us/step - loss: 7.5483e-07\n",
      "Epoch 6/10\n",
      "19864/19864 [==============================] - 3s 134us/step - loss: 7.4324e-07\n",
      "Epoch 7/10\n",
      "19864/19864 [==============================] - 3s 129us/step - loss: 7.3410e-07\n",
      "Epoch 8/10\n",
      "19864/19864 [==============================] - 3s 126us/step - loss: 7.2681e-07\n",
      "Epoch 9/10\n",
      "19864/19864 [==============================] - 3s 126us/step - loss: 7.2065e-07\n",
      "Epoch 10/10\n",
      "19864/19864 [==============================] - 3s 135us/step - loss: 7.1541e-07\n"
     ]
    },
    {
     "data": {
      "text/plain": [
       "<keras.callbacks.History at 0x7fc2d7cb64a8>"
      ]
     },
     "execution_count": 129,
     "metadata": {},
     "output_type": "execute_result"
    }
   ],
   "source": [
    "model = Sequential()\n",
    "model.add(Dense(16, input_dim=X_train.shape[1], activation='relu'))\n",
    "model.add(Dense(6, activation='relu'))\n",
    "model.add(Dense(Y_train.shape[1]))\n",
    "# model.compile(optimizer=SGD(lr=0.03), loss='mse') # Stochastic Gradient Descent\n",
    "model.compile(optimizer=Adagrad(lr=0.05, decay=0.05), loss='mse') # Adam\n",
    "# model.fit(X_train, Y_train, epochs=1, batch_size=X_train.shape[1])\n",
    "model.fit(X_train, Y_train, epochs=10, batch_size=16)\n",
    "\n",
    "\n",
    "# model.fit(X_train, Y_train, epochs=100, batch_size=X_train.shape[0])"
   ]
  },
  {
   "cell_type": "code",
   "execution_count": 124,
   "metadata": {},
   "outputs": [
    {
     "name": "stdout",
     "output_type": "stream",
     "text": [
      "9784/9784 [==============================] - 1s 59us/step\n"
     ]
    },
    {
     "data": {
      "text/plain": [
       "6.954127900582429e-09"
      ]
     },
     "execution_count": 124,
     "metadata": {},
     "output_type": "execute_result"
    }
   ],
   "source": [
    "model.evaluate(X_test, Y_test, batch_size=16)"
   ]
  },
  {
   "cell_type": "code",
   "execution_count": 125,
   "metadata": {},
   "outputs": [],
   "source": [
    "y_hat = model.predict(X_train, batch_size=16)"
   ]
  },
  {
   "cell_type": "code",
   "execution_count": 73,
   "metadata": {},
   "outputs": [
    {
     "data": {
      "text/plain": [
       "(19864, 1)"
      ]
     },
     "execution_count": 73,
     "metadata": {},
     "output_type": "execute_result"
    }
   ],
   "source": [
    "y_hat.shape"
   ]
  },
  {
   "cell_type": "code",
   "execution_count": 128,
   "metadata": {},
   "outputs": [
    {
     "data": {
      "image/png": "[encoded data removed]",
      "text/plain": [
       "<Figure size 432x288 with 1 Axes>"
      ]
     },
     "metadata": {
      "needs_background": "light"
     },
     "output_type": "display_data"
    }
   ],
   "source": [
    "import matplotlib.pyplot as plt\n",
    "import numpy as np\n",
    "m = X_train.shape[0]\n",
    "# n = len(parameters) // 2  # number of layers in the neural network, not used\n",
    "p = np.zeros((m, 1))\n",
    "\n",
    "for i in range(0, y_hat.shape[0]):\n",
    "    p[i, 0] = y_hat[i, 0]\n",
    "\n",
    "# print results\n",
    "# print (\"predictions: \" + str(p[:10]))\n",
    "# print (\"true labels: \" + str(y[:10]))\n",
    "\n",
    "plt.plot(np.squeeze(p)[0:100], marker=None,\n",
    "         color='red', markersize=1, linewidth=1)\n",
    "plt.plot(np.squeeze(Y_test)[0:100], marker=None,\n",
    "         color='blue', markersize=1, linewidth=1)\n",
    "plt.ylabel('normalized price')\n",
    "plt.xlabel('time step')\n",
    "plt.title(\"Predicted Prices\")\n",
    "plt.legend(['predict', 'true'], loc='upper left')\n",
    "plt.show()"
   ]
  },
  {
   "cell_type": "code",
   "execution_count": null,
   "metadata": {},
   "outputs": [],
   "source": []
  }
 ],
 "metadata": {
  "kernelspec": {
   "display_name": "Python 3",
   "language": "python",
   "name": "python3"
  },
  "language_info": {
   "codemirror_mode": {
    "name": "ipython",
    "version": 3
   },
   "file_extension": ".py",
   "mimetype": "text/x-python",
   "name": "python",
   "nbconvert_exporter": "python",
   "pygments_lexer": "ipython3",
   "version": "3.6.8"
  }
 },
 "nbformat": 4,
 "nbformat_minor": 2
}
